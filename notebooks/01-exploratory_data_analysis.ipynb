{
 "cells": [
  {
   "cell_type": "markdown",
   "metadata": {},
   "source": [
    "# Análise exploratória de dados"
   ]
  },
  {
   "cell_type": "code",
   "execution_count": null,
   "metadata": {},
   "outputs": [],
   "source": [
    "import pandas as pd\n",
    "import seaborn as sns\n",
    "from pathlib import Path\n",
    "from matplotlib import pyplot as plt\n",
    "from matplotlib import patches\n",
    "from IPython.display import Markdown\n",
    "import numpy as np"
   ]
  },
  {
   "cell_type": "markdown",
   "metadata": {
    "tags": []
   },
   "source": [
    "## 1. Descrição dos dados"
   ]
  },
  {
   "cell_type": "code",
   "execution_count": null,
   "metadata": {},
   "outputs": [],
   "source": [
    "dict_path = Path(\"../data/external/dicionario.csv\")\n",
    "df_dict = pd.read_csv(dict_path)\n",
    "df_dict"
   ]
  },
  {
   "cell_type": "code",
   "execution_count": null,
   "metadata": {},
   "outputs": [],
   "source": [
    "df = pd.read_csv('../data/raw/data.csv')\n",
    "df.head()"
   ]
  },
  {
   "cell_type": "code",
   "execution_count": null,
   "metadata": {},
   "outputs": [],
   "source": [
    "display(df.shape)\n",
    "display(Markdown(f\"O conjunto de dados possui **{df.shape[0]}** linhas e **{df.shape[1]}** colunas\"))"
   ]
  },
  {
   "cell_type": "code",
   "execution_count": null,
   "metadata": {},
   "outputs": [],
   "source": [
    "display(df.info())\n",
    "display(Markdown(\"Não há dados faltantes no dataset\"))"
   ]
  },
  {
   "cell_type": "markdown",
   "metadata": {
    "tags": []
   },
   "source": [
    "## 2. Perguntas de partida e hipóteses"
   ]
  },
  {
   "cell_type": "markdown",
   "metadata": {
    "tags": []
   },
   "source": [
    "### 2.1 Análise univariada"
   ]
  },
  {
   "cell_type": "code",
   "execution_count": null,
   "metadata": {},
   "outputs": [],
   "source": [
    "# genero X desempenho\n",
    "# Faltas x desempenho\n",
    "# VisITedResources x desempenho\n",
    "# raisedhands x desempenho "
   ]
  },
  {
   "cell_type": "code",
   "execution_count": null,
   "metadata": {},
   "outputs": [],
   "source": [
    "fig, axes  = plt.subplots(7,2,figsize=(30,50))\n",
    "sns.set(style=\"whitegrid\")\n",
    "total = float(len(df))\n",
    "df.NationalITy = df.NationalITy.replace(['KW'],'Kuwait')\n",
    "df.StageID = df.StageID.replace([\"lowerlevel\"],\"LowerLevel\")\n",
    "# gender\n",
    "\n",
    "ax = sns.countplot(x=\"gender\", data=df, color='tomato',ax=axes[0,0])\n",
    "#plt.xlabel('Gênero')\n",
    "#plt.ylabel('Quantidade')\n",
    "#plt.title('Distribuição dos dados por gênero', fontsize=12)\n",
    "ax.set(frame_on=False)\n",
    "ax.axhline(0, color=\"k\", clip_on=False)\n",
    "ax.bar_label(\n",
    "    ax.containers[0],\n",
    "    labels=[f\"{value:.2f}%\" for value in df.gender.value_counts().to_numpy()/total*100],\n",
    "    label_type=\"center\",\n",
    "    color=\"white\"\n",
    ")\n",
    "\n",
    "# nacionalidade\n",
    "\n",
    "graph_df1 = (\n",
    "    df\n",
    "    .NationalITy\n",
    "    .value_counts()\n",
    "    .to_frame()\n",
    "    .reset_index()\n",
    "    .rename(columns={\"index\": \"Pais\", \"NationalITy\": \"Quantidade\"})\n",
    ")\n",
    "ax = sns.barplot(x=\"Quantidade\", y=\"Pais\", data=graph_df1, color='tomato',ax=axes[0,1])\n",
    "ax.bar_label(\n",
    "    ax.containers[0],\n",
    "    fmt='%.1f',\n",
    "    label_type='edge',\n",
    "    color='black'\n",
    ")\n",
    "ax.set(frame_on=False)\n",
    "ax.axvline(0, color=\"k\", clip_on=False)\n",
    "\n",
    "# País de origem\n",
    "\n",
    "graph_df2 = (\n",
    "    df\n",
    "    .PlaceofBirth\n",
    "    .value_counts()\n",
    "    .to_frame()\n",
    "    .reset_index()\n",
    "    .rename(columns={\"index\": \"Pais\", \"PlaceofBirth\": \"Quantidade\"})\n",
    ")\n",
    "ax = sns.barplot(x=\"Quantidade\", y=\"Pais\", data=graph_df2, color='tomato',ax=axes[1,0])\n",
    "ax.bar_label(\n",
    "    ax.containers[0],\n",
    "    fmt='%.1f',\n",
    "    label_type='edge',\n",
    "    color='black'\n",
    ")\n",
    "\n",
    "# Stage ID\n",
    "\n",
    "ax = sns.countplot(x=\"StageID\", data=df, color='tomato',order=['MiddleSchool','LowerLevel','HighSchool'],ax=axes[1,1])\n",
    "#plt.xlabel('Nível de escolaridade')\n",
    "#plt.ylabel('Quantidade')\n",
    "#plt.title('Distribuição dos dados por nível de escolaridade', fontsize=12)\n",
    "ax.set(frame_on=False)\n",
    "ax.axhline(0, color=\"k\", clip_on=False)\n",
    "ax.bar_label(\n",
    "    ax.containers[0],\n",
    "    labels=[f\"{value:.2f}%\" for value in df.StageID.value_counts().to_numpy()/total*100],\n",
    "    label_type=\"center\",\n",
    "    color=\"white\"\n",
    ")\n",
    "\n",
    "# Grade ID\n",
    "\n",
    "graph_df3 = (\n",
    "    df\n",
    "    .GradeID\n",
    "    .value_counts()\n",
    "    .to_frame()\n",
    "    .reset_index()\n",
    "    .rename(columns={\"index\": \"Turma\", \"GradeID\": \"Quantidade\"})\n",
    ")\n",
    "ax = sns.barplot(x=\"Quantidade\", y=\"Turma\", data=graph_df3, color='tomato',ax=axes[2,0])\n",
    "ax.bar_label(\n",
    "    ax.containers[0],\n",
    "    fmt='%.1f',\n",
    "    label_type='edge',\n",
    "    color='black'\n",
    ")\n",
    "#plt.xlabel('Quantidade')\n",
    "#plt.ylabel('Turmas')\n",
    "\n",
    "#plt.title('Distribuição dos alunos por turma', fontsize=12)\n",
    "ax.set(frame_on=False)\n",
    "ax.axvline(0, color=\"k\", clip_on=False)\n",
    "\n",
    "# Sectio id\n",
    "\n",
    "ax = sns.countplot(x=\"SectionID\", data=df, color='tomato',ax=axes[2,1])\n",
    "#plt.xlabel('Sala')\n",
    "#plt.ylabel('Quantidade')\n",
    "#plt.title('Distribuição dos alunos nas salas de aula', fontsize=12)\n",
    "ax.set(frame_on=False)\n",
    "ax.axhline(0, color=\"k\", clip_on=False)\n",
    "ax.bar_label(\n",
    "    ax.containers[0],\n",
    "    labels=[f\"{value:.2f}%\" for value in df.SectionID.value_counts().to_numpy()/total*100],\n",
    "    label_type=\"center\",\n",
    "    color=\"white\"\n",
    ")\n",
    "\n",
    "# Disciplina\n",
    "\n",
    "graph_df4 = (\n",
    "    df\n",
    "    .Topic\n",
    "    .value_counts()\n",
    "    .to_frame()\n",
    "    .reset_index()\n",
    "    .rename(columns={\"index\": \"Disciplina\", \"Topic\": \"Quantidade\"})\n",
    ")\n",
    "ax = sns.barplot(x=\"Quantidade\", y=\"Disciplina\", data=graph_df4, color='tomato',ax=axes[3,0])\n",
    "#plt.xlabel('Quantidade')\n",
    "#plt.ylabel('Disciplina')\n",
    "#plt.title('Distribuição dos alunos por disciplina', fontsize=12)\n",
    "ax.bar_label(\n",
    "    ax.containers[0],\n",
    "    fmt='%.1f',\n",
    "    label_type='edge',\n",
    "    color='black'\n",
    ")\n",
    "ax.set(frame_on=False)\n",
    "ax.axvline(0, color=\"k\", clip_on=False)\n",
    "\n",
    "# Semestre\n",
    "\n",
    "ax = sns.countplot(x=\"Semester\", data=df, color='tomato',ax=axes[3,1])\n",
    "#plt.xlabel('Semestre')\n",
    "#plt.ylabel('Quantidade')\n",
    "#plt.title('Distribuição dos alunos por semestre', fontsize=12)\n",
    "ax.set(frame_on=False)\n",
    "ax.axhline(0, color=\"k\", clip_on=False)\n",
    "ax.bar_label(\n",
    "    ax.containers[0],\n",
    "    labels=[f\"{value:.2f}%\" for value in df.Semester.value_counts().to_numpy()/total*100],\n",
    "    label_type=\"center\",\n",
    "    color=\"white\"\n",
    ")\n",
    "\n",
    "# Responsável\n",
    "\n",
    "graph_df5 = (\n",
    "    df\n",
    "    .Relation\n",
    "    .value_counts()\n",
    "    .to_frame()\n",
    "    .reset_index()\n",
    "    .rename(columns={\"index\": \"Responsavel\", \"Relation\": \"Quantidade\"})\n",
    ")\n",
    "graph_df5.Responsavel = graph_df5.Responsavel.replace(['Father','Mum'],['Pai','Mãe'])\n",
    "ax = sns.countplot(x=\"Relation\", data=df, color='tomato',ax=axes[4,0])\n",
    "#plt.xlabel('Responsável legal')\n",
    "#plt.ylabel('Quantidade')\n",
    "#plt.title('Distribuição dos responsáveis legais dos alunos', fontsize=12)\n",
    "ax.set(frame_on=False)\n",
    "ax.axhline(0, color=\"k\", clip_on=False)\n",
    "ax.bar_label(\n",
    "    ax.containers[0],\n",
    "    labels=[f\"{value:.1f}%\" for value in df.Relation.value_counts().to_numpy()/total*100],\n",
    "    label_type=\"center\",\n",
    "    color=\"white\"\n",
    ")\n",
    "\n",
    "# resposta\n",
    "\n",
    "ax = sns.countplot(x=\"ParentAnsweringSurvey\", data=df, color='tomato',ax=axes[4,1])\n",
    "#plt.xlabel('Respondido pelo responsável')\n",
    "#plt.ylabel('Quantidade')\n",
    "#plt.title('Responsáveis que responderam a pesquisa', fontsize=12)\n",
    "ax.set(frame_on=False)\n",
    "ax.axhline(0, color=\"k\", clip_on=False)\n",
    "ax.bar_label(\n",
    "    ax.containers[0],\n",
    "    labels=[f\"{value:.1f}%\" for value in df.ParentAnsweringSurvey.value_counts().to_numpy()/total*100],\n",
    "    label_type=\"center\",\n",
    "    color=\"white\"\n",
    ")\n",
    "\n",
    "# Satisfação\n",
    "\n",
    "ax = sns.countplot(x=\"ParentschoolSatisfaction\", data=df, color='tomato',ax=axes[5,0])\n",
    "#plt.xlabel('Satisfação')\n",
    "#plt.ylabel('Quantidade')\n",
    "#plt.title('Distribuição da satisfação com a escola', fontsize=12)\n",
    "ax.set(frame_on=False)\n",
    "ax.axhline(0, color=\"k\", clip_on=False)\n",
    "ax.bar_label(\n",
    "    ax.containers[0],\n",
    "    labels=[f\"{value:.1f}%\" for value in df.ParentschoolSatisfaction.value_counts().to_numpy()/total*100],\n",
    "    label_type=\"center\",\n",
    "    color=\"white\"\n",
    ")\n",
    "\n",
    "# Abstinência\n",
    "\n",
    "ax = sns.countplot(x=\"StudentAbsenceDays\", data=df, color='tomato',ax=axes[5,1])\n",
    "#plt.xlabel('Abstinência')\n",
    "#plt.ylabel('Quantidade')\n",
    "#plt.title('Distribuição da satisfação dos pais com a escola', fontsize=12)\n",
    "ax.set(frame_on=False)\n",
    "ax.axhline(0, color=\"k\", clip_on=False)\n",
    "ax.bar_label(\n",
    "    ax.containers[0],\n",
    "    labels=[f\"{value:.1f}%\" for value in df.StudentAbsenceDays.value_counts().to_numpy()/total*100],\n",
    "    label_type=\"center\",\n",
    "    color=\"white\"\n",
    ")\n",
    "\n",
    "# classificação\n",
    "\n",
    "ax = sns.countplot(x=\"Class\", data=df, color='tomato',order=['M','H','L'],ax=axes[6,0])\n",
    "ax.set(frame_on=False)\n",
    "ax.axhline(0, color=\"k\", clip_on=False)\n",
    "ax.bar_label(\n",
    "    ax.containers[0],\n",
    "    labels=[f\"{value:.1f}%\" for value in df.Class.value_counts().to_numpy()/total*100],\n",
    "    label_type=\"center\",\n",
    "    color=\"white\"\n",
    ")\n",
    "\n",
    "plt.show()\n",
    "\n",
    "masculino = df.gender.value_counts().to_dict()['M']\n",
    "feminino = df.gender.value_counts().to_dict()['F']\n",
    "primeiro = df.PlaceofBirth.value_counts().to_list()[0]\n",
    "segundo = df.PlaceofBirth.value_counts().to_list()[1]\n",
    "form_stage_1 = df.StageID.value_counts().to_list()[0]\n",
    "form_stage_2 = df.StageID.value_counts().to_list()[1]\n",
    "form_stage_3 = df.StageID.value_counts().to_list()[2]\n",
    "num_turma_1 = df.GradeID.value_counts().to_list()[0]\n",
    "num_turma_2 = df.GradeID.value_counts().to_list()[1]\n",
    "num_turma_3 = df.GradeID.value_counts().to_list()[2]\n",
    "form_semester_1 = df.Semester.value_counts().to_list()[0]\n",
    "form_semester_2 = df.Semester.value_counts().to_list()[1]\n",
    "form_relation_1 = df.Relation.value_counts().to_list()[0]\n",
    "form_relation_2 = df.Relation.value_counts().to_list()[1]\n",
    "form_parent = df.ParentAnsweringSurvey.value_counts().to_list()[0]\n",
    "form_satisfaction = df.ParentschoolSatisfaction.value_counts().to_list()[0]\n",
    "form_abstinencia_2 = df.StudentAbsenceDays.value_counts().to_list()[1]\n",
    "form_class_1 = df.Class.value_counts().to_list()[0]\n",
    "form_class_2 = df.Class.value_counts().to_list()[1]\n",
    "form_class_3 = df.Class.value_counts().to_list()[2]\n",
    "\n",
    "display(Markdown(f\"O conjunto de dados e composto por **{masculino/total*100:.2f}%** de pessoas do sexo masculino e **{feminino/total*100:.2f}%** de pessoas do sexo feminino.\"))\n",
    "display(Markdown(f\"A maior parte das pessoas que responderam a pesquisa possuem nacionalidade do **{graph_df1.iloc[0,0]}** ou **{graph_df1.iloc[1,0]}**.\"))\n",
    "display(Markdown(f\"**{(primeiro+segundo)/total*100:.1f}%** dos participantes da pesquisa tem origem no **{graph_df2.iloc[0,0]}** ou **{graph_df2.iloc[1,0]}**.\"))\n",
    "display(Markdown(f\"De acordo com o nível de escolaridade os estudantes estão distribuidos em **{form_stage_2/total*100:.2f}%** como Lower Level, **{form_stage_1/total*100:.2f}%** como Middle School e **{form_stage_3/total*100:.2f}%** como High School.\"))\n",
    "display(Markdown(f\"As turmas com a maior quantidade de alunos são a **{graph_df3.iloc[0,0]}** com **{num_turma_1}** alunos, a **{graph_df3.iloc[1,0]}** com **{num_turma_2}** alunos e a **{graph_df3.iloc[2,0]}** com **{num_turma_3}** alunos.\"))\n",
    "display(Markdown(f\"A maior parte dos alunos estão estudam na sala A.\"))\n",
    "display(Markdown(f\"A turma com maior quantidade de alunos é a de **{graph_df4.iloc[0,0]}**.\"))\n",
    "display(Markdown(f\"O semestre letivo até então é a variável com melhor balanceamento, havendo uma diferença de **{(form_semester_1-form_semester_2)/total*100:.1f}%** na distruição dos participantes da pesquisa.\"))\n",
    "display(Markdown(f\"**{(form_relation_1)/total*100:.1f}%** dos participantes da pesquisa tem como responável **{graph_df5.iloc[0,0]}** e **{form_relation_2/total*100:.1f}%** dos participantes da pesquisa tem como responável **{graph_df5.iloc[1,0]}**.\"))\n",
    "display(Markdown(f\"Apenas **{(form_parent)/total*100:.1f}%** dos responsáveis responderam a pesquisa\"))\n",
    "display(Markdown(f\"**{(form_satisfaction)/total*100:.1f}%** estão satisfeitos com a escola.\"))\n",
    "display(Markdown(f\"**{(form_abstinencia_2)/total*100:.1f}%** dos alunos possuem mais de 7 faltas.\"))\n",
    "display(Markdown(f\"Os alunos foram classificados como **{(form_class_3)/total*100:.1f}%** no Low-Level, **{(form_class_1)/total*100:.1f}%** no Middle-Level e **{(form_class_2)/total*100:.1f}%** no High-Level\"))"
   ]
  },
  {
   "cell_type": "markdown",
   "metadata": {
    "tags": []
   },
   "source": [
    "### 2.2 Análise bivariada"
   ]
  },
  {
   "cell_type": "code",
   "execution_count": null,
   "metadata": {},
   "outputs": [],
   "source": [
    "sns.set(style=\"whitegrid\")\n",
    "plt.figure(figsize=(4,4))\n",
    "total = float(len(df))\n",
    "sns.countplot(x='gender', data = df, hue='Class')\n",
    "plt.show()"
   ]
  },
  {
   "cell_type": "code",
   "execution_count": null,
   "metadata": {},
   "outputs": [],
   "source": [
    "sns.set(style=\"whitegrid\")\n",
    "plt.figure(figsize=(4,4))\n",
    "total = float(len(df))\n",
    "sns.countplot(y='NationalITy', data = df, hue='Class')\n",
    "plt.show()"
   ]
  },
  {
   "cell_type": "code",
   "execution_count": null,
   "metadata": {},
   "outputs": [],
   "source": [
    "sns.set(style=\"whitegrid\")\n",
    "plt.figure(figsize=(4,4))\n",
    "total = float(len(df))\n",
    "sns.countplot(y='PlaceofBirth', data = df, hue='Class')\n",
    "plt.show()"
   ]
  },
  {
   "cell_type": "code",
   "execution_count": null,
   "metadata": {},
   "outputs": [],
   "source": [
    "sns.set(style=\"whitegrid\")\n",
    "plt.figure(figsize=(4,4))\n",
    "total = float(len(df))\n",
    "sns.countplot(x='StageID', data = df, hue='Class')\n",
    "plt.show()"
   ]
  },
  {
   "cell_type": "code",
   "execution_count": null,
   "metadata": {},
   "outputs": [],
   "source": [
    "sns.set(style=\"whitegrid\")\n",
    "plt.figure(figsize=(4,4))\n",
    "total = float(len(df))\n",
    "sns.countplot(y='GradeID', data = df, hue='Class')\n",
    "plt.show()"
   ]
  },
  {
   "cell_type": "code",
   "execution_count": null,
   "metadata": {},
   "outputs": [],
   "source": [
    "sns.set(style=\"whitegrid\")\n",
    "plt.figure(figsize=(4,4))\n",
    "total = float(len(df))\n",
    "sns.countplot(x='SectionID', data = df, hue='Class')\n",
    "plt.show()"
   ]
  },
  {
   "cell_type": "code",
   "execution_count": null,
   "metadata": {},
   "outputs": [],
   "source": [
    "sns.set(style=\"whitegrid\")\n",
    "plt.figure(figsize=(4,4))\n",
    "total = float(len(df))\n",
    "sns.countplot(y='Topic', data = df, hue='Class')\n",
    "plt.show()"
   ]
  },
  {
   "cell_type": "code",
   "execution_count": null,
   "metadata": {},
   "outputs": [],
   "source": [
    "sns.set(style=\"whitegrid\")\n",
    "plt.figure(figsize=(4,4))\n",
    "total = float(len(df))\n",
    "sns.countplot(x='Semester', data = df, hue='Class')\n",
    "plt.show()"
   ]
  },
  {
   "cell_type": "code",
   "execution_count": null,
   "metadata": {},
   "outputs": [],
   "source": [
    "#completo\n",
    "sns.set(style=\"whitegrid\")\n",
    "plt.figure(figsize=(6,5))\n",
    "\n",
    "ax = sns.countplot(x='Relation', data=df, hue='Class')\n",
    "plt.xlabel('Pesquisa sobre os temas abordados na sala de aula')\n",
    "plt.ylabel('Quantidade de alunos')\n",
    "plt.title('Identificando a relação da quantidade de pesquisa de cada aluno com seu desempenho', fontsize=12)\n",
    "ax.set(frame_on=False)\n",
    "ax.axhline(0, color=\"k\", clip_on=False)\n",
    "plt.show()\n",
    "\n",
    "display(Markdown(\"Possuir um acompanhamento feito pelo pai apresenta uma relação positiva para alunos classificados como Low e Middle, já para alunos classificados como High apresentaram um melhor desempenho aqueles que possuem sua representação feita pela mãe.\"))"
   ]
  },
  {
   "cell_type": "code",
   "execution_count": null,
   "metadata": {},
   "outputs": [],
   "source": [
    "Anounce_bp = sns.boxplot(x=\"Class\", y=\"AnnouncementsView\", data=df)\n",
    "Anounce_bp = sns.swarmplot(x=\"Class\", y=\"AnnouncementsView\", data=df, color=\".35\")\n",
    "plt.show()"
   ]
  },
  {
   "cell_type": "code",
   "execution_count": null,
   "metadata": {},
   "outputs": [],
   "source": [
    "Vis_res = sns.boxplot(x=\"Class\", y=\"VisITedResources\", data=df)\n",
    "Vis_res = sns.swarmplot(x=\"Class\", y=\"VisITedResources\", data=df, color=\".35\")\n",
    "plt.show()"
   ]
  },
  {
   "cell_type": "code",
   "execution_count": null,
   "metadata": {},
   "outputs": [],
   "source": [
    "Anounce_bp = sns.boxplot(x=\"Class\", y=\"AnnouncementsView\", data=df)\n",
    "Anounce_bp = sns.swarmplot(x=\"Class\", y=\"AnnouncementsView\", data=df, color=\".35\")\n",
    "plt.show()"
   ]
  },
  {
   "cell_type": "code",
   "execution_count": null,
   "metadata": {},
   "outputs": [],
   "source": [
    "ax = sns.boxplot(x=\"Class\", y=\"Discussion\", data=df)\n",
    "ax = sns.swarmplot(x=\"Class\", y=\"Discussion\", data=df, color=\".35\")\n",
    "plt.show()"
   ]
  },
  {
   "cell_type": "code",
   "execution_count": null,
   "metadata": {},
   "outputs": [],
   "source": [
    "#completo\n",
    "sns.set(style=\"whitegrid\")\n",
    "plt.figure(figsize=(6,5))\n",
    "\n",
    "ax = sns.countplot(x='ParentAnsweringSurvey', data=df, hue='Class')\n",
    "plt.xlabel('Pesquisa sobre os temas abordados na sala de aula')\n",
    "plt.ylabel('Quantidade de alunos')\n",
    "plt.title('Identificando a relação da quantidade de pesquisa de cada aluno com seu desempenho', fontsize=12)\n",
    "ax.set(frame_on=False)\n",
    "ax.axhline(0, color=\"k\", clip_on=False)\n",
    "plt.show()\n",
    "\n",
    "display(Markdown(\"O gráfico denota uma indice de aprovação maior para alunos das turmas middle e high quando estes possuem o habito de pesquisar sobre temas abordados em sala de aula.\"))"
   ]
  },
  {
   "cell_type": "code",
   "execution_count": null,
   "metadata": {},
   "outputs": [],
   "source": [
    "sns.set(style=\"whitegrid\")\n",
    "plt.figure(figsize=(4,4))\n",
    "total = float(len(df))\n",
    "sns.countplot(x='ParentschoolSatisfaction', data = df, hue='Class')\n",
    "plt.show()"
   ]
  },
  {
   "cell_type": "code",
   "execution_count": null,
   "metadata": {},
   "outputs": [],
   "source": [
    "#completo\n",
    "sns.set(style=\"whitegrid\")\n",
    "plt.figure(figsize=(6,5))\n",
    "\n",
    "ax = sns.countplot(x='StudentAbsenceDays', data=df, hue='Class')\n",
    "plt.xlabel('Ausências na sala de aula')\n",
    "plt.ylabel('Quantidade de alunos')\n",
    "plt.title('Identificando a relação da quantidade de faltas de cada aluno com seu desempenho', fontsize=12)\n",
    "ax.set(frame_on=False)\n",
    "ax.axhline(0, color=\"k\", clip_on=False)\n",
    "plt.show()\n",
    "\n",
    "display(Markdown(\"No gráfico acima nós percebemos que os alunos que tiveram menos de 7 faltas, nos níveis intermediário e avançado, acabaram tendo um desempenho melhor com relação aos alunos que tiveram mais de 7 faltas\"))"
   ]
  },
  {
   "cell_type": "code",
   "execution_count": null,
   "metadata": {},
   "outputs": [],
   "source": [
    "#completo\n",
    "sns.set(style=\"whitegrid\")\n",
    "plt.figure(figsize=(6,5))\n",
    "\n",
    "ax = sns.countplot(x='Relation', data=df, hue='Class')\n",
    "plt.xlabel('Pesquisa sobre os temas abordados na sala de aula')\n",
    "plt.ylabel('Quantidade de alunos')\n",
    "plt.title('Identificando a relação da quantidade de pesquisa de cada aluno com seu desempenho', fontsize=12)\n",
    "ax.set(frame_on=False)\n",
    "ax.axhline(0, color=\"k\", clip_on=False)\n",
    "plt.show()\n",
    "\n",
    "display(Markdown(\"Possuir um acompanhamento feito pelo pai apresenta uma relação positiva para alunos classificados como Low e Middle, já para alunos classificados como High apresentaram um melhor desempenho aqueles que possuem sua representação feita pela mãe.\"))"
   ]
  },
  {
   "cell_type": "code",
   "execution_count": null,
   "metadata": {},
   "outputs": [],
   "source": [
    "sns.set(style=\"whitegrid\")\n",
    "plt.figure(figsize=(6,5))\n",
    "\n",
    "ax = sns.countplot(x='Relation', data=df, hue='StageID')\n",
    "plt.xlabel('Pesquisa sobre os temas abordados na sala de aula')\n",
    "plt.ylabel('Quantidade de alunos')\n",
    "plt.title('Identificando a relação da quantidade de pesquisa de cada aluno com seu desempenho', fontsize=12)\n",
    "ax.set(frame_on=False)\n",
    "ax.axhline(0, color=\"k\", clip_on=False)\n",
    "plt.show()"
   ]
  },
  {
   "cell_type": "code",
   "execution_count": null,
   "metadata": {},
   "outputs": [],
   "source": [
    "display(df.StageID.value_counts())\n",
    "display(df.Class.value_counts())\n",
    "display(df.StageID.value_counts().sum())\n",
    "display(df.Class.value_counts().sum())"
   ]
  },
  {
   "cell_type": "markdown",
   "metadata": {
    "tags": []
   },
   "source": [
    "## 3. Insights"
   ]
  },
  {
   "cell_type": "markdown",
   "metadata": {},
   "source": [
    "Relação entre o genero e o nível de escolaridade"
   ]
  },
  {
   "cell_type": "code",
   "execution_count": null,
   "metadata": {},
   "outputs": [],
   "source": [
    "display(graph_df1)\n",
    "display(graph_df2)\n",
    "display(graph_df3)\n",
    "display(graph_df4)\n",
    "display(graph_df5)"
   ]
  },
  {
   "cell_type": "code",
   "execution_count": null,
   "metadata": {},
   "outputs": [],
   "source": [
    "data = df.copy()\n",
    "data.Class.replace({\"M\":\"Middle-Level\",\"H\":\"High-Level\",\"L\":\"Low-Level\"},inplace=True)"
   ]
  },
  {
   "cell_type": "code",
   "execution_count": null,
   "metadata": {},
   "outputs": [],
   "source": [
    "sns.set(style=\"whitegrid\")\n",
    "plt.figure(figsize=(6,5))\n",
    "\n",
    "ax = sns.countplot(x='Class', data=data, hue='gender')\n",
    "plt.xlabel('Nível de escolaridade')\n",
    "plt.ylabel('Genero dos alunos')\n",
    "plt.title('Identificando a relação entre o genero que o nível de escolaridade', fontsize=12)\n",
    "ax.set(frame_on=False)\n",
    "ax.axhline(0, color=\"k\", clip_on=False)\n",
    "plt.show()"
   ]
  },
  {
   "cell_type": "markdown",
   "metadata": {},
   "source": [
    "Relação entre a quantidade de participação no grupo de discussão e classificação dos alunos com base em sua nota total.\n",
    "Pode-se perceber no gráfico que quanto mais um aluno discute, maior é a nota dele."
   ]
  },
  {
   "cell_type": "code",
   "execution_count": null,
   "metadata": {},
   "outputs": [],
   "source": [
    "sns.set(style=\"whitegrid\")\n",
    "plt.figure(figsize=(6,5))\n",
    "\n",
    "ax = sns.barplot(x='Class',y='Discussion', data=data,order=[\"Low-Level\",\"Middle-Level\",\"High-Level\"])\n",
    "plt.xlabel('Nível de escolaridade')\n",
    "plt.ylabel('Participação no grupo de discussão')\n",
    "plt.title('Relação entre quantidade de participação no grupo de estudos e nivel de escolaridade', fontsize=12)\n",
    "ax.set(frame_on=False)\n",
    "ax.axhline(0, color=\"k\", clip_on=False)\n",
    "plt.show()"
   ]
  },
  {
   "cell_type": "markdown",
   "metadata": {},
   "source": [
    "Relação entre a quantidade de vezes o estudante levanta sua mão na sala de aula e a classificação de notas."
   ]
  },
  {
   "cell_type": "code",
   "execution_count": null,
   "metadata": {},
   "outputs": [],
   "source": [
    "sns.set(style=\"whitegrid\")\n",
    "plt.figure(figsize=(6,5))\n",
    "\n",
    "ax = sns.barplot(x='Class',y='raisedhands', data=data,order=[\"Low-Level\",\"Middle-Level\",\"High-Level\"])\n",
    "plt.xlabel('Nível de escolaridade')\n",
    "plt.ylabel('Participação no grupo de discussão')\n",
    "plt.title('Relação entre a quantidade de vezes o estudante levanta sua mão na sala de aula e nivel de escolaridade', fontsize=12)\n",
    "ax.set(frame_on=False)\n",
    "ax.axhline(0, color=\"k\", clip_on=False)\n",
    "plt.show()\n",
    "display"
   ]
  },
  {
   "cell_type": "markdown",
   "metadata": {},
   "source": [
    "Relação entre a quantidade de vezes o estudante verifica as novidades do curso e a classificação de notas."
   ]
  },
  {
   "cell_type": "code",
   "execution_count": null,
   "metadata": {},
   "outputs": [],
   "source": [
    "sns.set(style=\"whitegrid\")\n",
    "plt.figure(figsize=(6,5))\n",
    "\n",
    "ax = sns.barplot(x='Class',y='AnnouncementsView', data=data,order=[\"Low-Level\",\"Middle-Level\",\"High-Level\"])\n",
    "plt.xlabel('Nível de escolaridade')\n",
    "plt.ylabel('Participação no grupo de discussão')\n",
    "plt.title('Relação entre quantidade de vezes o estudante verifica as novidades do curso e nivel de escolaridade', fontsize=12)\n",
    "ax.set(frame_on=False)\n",
    "ax.axhline(0, color=\"k\", clip_on=False)\n",
    "plt.show()\n",
    "display(Markdown(\"Como fica claro nos gráficos anteriores, quanto maior for a participação do aluno, ou seja, quanto maior for seu interesse, maior é a sua classificação de notas.\"))"
   ]
  }
 ],
 "metadata": {
  "kernelspec": {
   "display_name": "Python 3 (ipykernel)",
   "language": "python",
   "name": "python3"
  },
  "language_info": {
   "codemirror_mode": {
    "name": "ipython",
    "version": 3
   },
   "file_extension": ".py",
   "mimetype": "text/x-python",
   "name": "python",
   "nbconvert_exporter": "python",
   "pygments_lexer": "ipython3",
   "version": "3.8.10"
  },
  "vscode": {
   "interpreter": {
    "hash": "eb3c3305d8b111f0102f4f519c5f17abd113fe74db6752c355e994a9008815ef"
   }
  }
 },
 "nbformat": 4,
 "nbformat_minor": 4
}

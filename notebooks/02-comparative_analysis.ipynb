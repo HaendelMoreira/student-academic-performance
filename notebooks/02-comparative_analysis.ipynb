{
 "cells": [
  {
   "cell_type": "markdown",
   "metadata": {},
   "source": [
    "## Metodologia"
   ]
  },
  {
   "cell_type": "markdown",
   "metadata": {},
   "source": [
    "### Importação das bibliotecas"
   ]
  },
  {
   "cell_type": "code",
   "execution_count": 24,
   "metadata": {},
   "outputs": [],
   "source": [
    "import pandas as pd\n",
    "import seaborn as sns\n",
    "from pathlib import Path\n",
    "from matplotlib import pyplot as plt\n",
    "from matplotlib import patches\n",
    "from IPython.display import Markdown\n",
    "import numpy as np\n",
    "from sklearn.model_selection import train_test_split, KFold, cross_val_score, cross_val_predict\n",
    "from sklearn.neighbors import KNeighborsClassifier\n",
    "from sklearn.linear_model import LogisticRegression\n",
    "from sklearn.naive_bayes import  MultinomialNB\n",
    "from sklearn.tree import DecisionTreeClassifier\n",
    "from sklearn.metrics import f1_score, precision_score, recall_score, accuracy_score, classification_report,cohen_kappa_score\n",
    "from sklearn import metrics"
   ]
  },
  {
   "cell_type": "markdown",
   "metadata": {},
   "source": [
    "### Importação do dataset"
   ]
  },
  {
   "cell_type": "code",
   "execution_count": 25,
   "metadata": {},
   "outputs": [
    {
     "data": {
      "text/html": [
       "<div>\n",
       "<style scoped>\n",
       "    .dataframe tbody tr th:only-of-type {\n",
       "        vertical-align: middle;\n",
       "    }\n",
       "\n",
       "    .dataframe tbody tr th {\n",
       "        vertical-align: top;\n",
       "    }\n",
       "\n",
       "    .dataframe thead th {\n",
       "        text-align: right;\n",
       "    }\n",
       "</style>\n",
       "<table border=\"1\" class=\"dataframe\">\n",
       "  <thead>\n",
       "    <tr style=\"text-align: right;\">\n",
       "      <th></th>\n",
       "      <th>gender</th>\n",
       "      <th>NationalITy</th>\n",
       "      <th>PlaceofBirth</th>\n",
       "      <th>StageID</th>\n",
       "      <th>GradeID</th>\n",
       "      <th>SectionID</th>\n",
       "      <th>Topic</th>\n",
       "      <th>Semester</th>\n",
       "      <th>Relation</th>\n",
       "      <th>raisedhands</th>\n",
       "      <th>VisITedResources</th>\n",
       "      <th>AnnouncementsView</th>\n",
       "      <th>Discussion</th>\n",
       "      <th>ParentAnsweringSurvey</th>\n",
       "      <th>ParentschoolSatisfaction</th>\n",
       "      <th>StudentAbsenceDays</th>\n",
       "      <th>Class</th>\n",
       "    </tr>\n",
       "  </thead>\n",
       "  <tbody>\n",
       "    <tr>\n",
       "      <th>0</th>\n",
       "      <td>M</td>\n",
       "      <td>KW</td>\n",
       "      <td>KuwaIT</td>\n",
       "      <td>lowerlevel</td>\n",
       "      <td>G-04</td>\n",
       "      <td>A</td>\n",
       "      <td>IT</td>\n",
       "      <td>F</td>\n",
       "      <td>Father</td>\n",
       "      <td>15</td>\n",
       "      <td>16</td>\n",
       "      <td>2</td>\n",
       "      <td>20</td>\n",
       "      <td>Yes</td>\n",
       "      <td>Good</td>\n",
       "      <td>Under-7</td>\n",
       "      <td>M</td>\n",
       "    </tr>\n",
       "    <tr>\n",
       "      <th>1</th>\n",
       "      <td>M</td>\n",
       "      <td>KW</td>\n",
       "      <td>KuwaIT</td>\n",
       "      <td>lowerlevel</td>\n",
       "      <td>G-04</td>\n",
       "      <td>A</td>\n",
       "      <td>IT</td>\n",
       "      <td>F</td>\n",
       "      <td>Father</td>\n",
       "      <td>20</td>\n",
       "      <td>20</td>\n",
       "      <td>3</td>\n",
       "      <td>25</td>\n",
       "      <td>Yes</td>\n",
       "      <td>Good</td>\n",
       "      <td>Under-7</td>\n",
       "      <td>M</td>\n",
       "    </tr>\n",
       "    <tr>\n",
       "      <th>2</th>\n",
       "      <td>M</td>\n",
       "      <td>KW</td>\n",
       "      <td>KuwaIT</td>\n",
       "      <td>lowerlevel</td>\n",
       "      <td>G-04</td>\n",
       "      <td>A</td>\n",
       "      <td>IT</td>\n",
       "      <td>F</td>\n",
       "      <td>Father</td>\n",
       "      <td>10</td>\n",
       "      <td>7</td>\n",
       "      <td>0</td>\n",
       "      <td>30</td>\n",
       "      <td>No</td>\n",
       "      <td>Bad</td>\n",
       "      <td>Above-7</td>\n",
       "      <td>L</td>\n",
       "    </tr>\n",
       "    <tr>\n",
       "      <th>3</th>\n",
       "      <td>M</td>\n",
       "      <td>KW</td>\n",
       "      <td>KuwaIT</td>\n",
       "      <td>lowerlevel</td>\n",
       "      <td>G-04</td>\n",
       "      <td>A</td>\n",
       "      <td>IT</td>\n",
       "      <td>F</td>\n",
       "      <td>Father</td>\n",
       "      <td>30</td>\n",
       "      <td>25</td>\n",
       "      <td>5</td>\n",
       "      <td>35</td>\n",
       "      <td>No</td>\n",
       "      <td>Bad</td>\n",
       "      <td>Above-7</td>\n",
       "      <td>L</td>\n",
       "    </tr>\n",
       "    <tr>\n",
       "      <th>4</th>\n",
       "      <td>M</td>\n",
       "      <td>KW</td>\n",
       "      <td>KuwaIT</td>\n",
       "      <td>lowerlevel</td>\n",
       "      <td>G-04</td>\n",
       "      <td>A</td>\n",
       "      <td>IT</td>\n",
       "      <td>F</td>\n",
       "      <td>Father</td>\n",
       "      <td>40</td>\n",
       "      <td>50</td>\n",
       "      <td>12</td>\n",
       "      <td>50</td>\n",
       "      <td>No</td>\n",
       "      <td>Bad</td>\n",
       "      <td>Above-7</td>\n",
       "      <td>M</td>\n",
       "    </tr>\n",
       "  </tbody>\n",
       "</table>\n",
       "</div>"
      ],
      "text/plain": [
       "  gender NationalITy PlaceofBirth     StageID GradeID SectionID Topic  \\\n",
       "0      M          KW       KuwaIT  lowerlevel    G-04         A    IT   \n",
       "1      M          KW       KuwaIT  lowerlevel    G-04         A    IT   \n",
       "2      M          KW       KuwaIT  lowerlevel    G-04         A    IT   \n",
       "3      M          KW       KuwaIT  lowerlevel    G-04         A    IT   \n",
       "4      M          KW       KuwaIT  lowerlevel    G-04         A    IT   \n",
       "\n",
       "  Semester Relation  raisedhands  VisITedResources  AnnouncementsView  \\\n",
       "0        F   Father           15                16                  2   \n",
       "1        F   Father           20                20                  3   \n",
       "2        F   Father           10                 7                  0   \n",
       "3        F   Father           30                25                  5   \n",
       "4        F   Father           40                50                 12   \n",
       "\n",
       "   Discussion ParentAnsweringSurvey ParentschoolSatisfaction  \\\n",
       "0          20                   Yes                     Good   \n",
       "1          25                   Yes                     Good   \n",
       "2          30                    No                      Bad   \n",
       "3          35                    No                      Bad   \n",
       "4          50                    No                      Bad   \n",
       "\n",
       "  StudentAbsenceDays Class  \n",
       "0            Under-7     M  \n",
       "1            Under-7     M  \n",
       "2            Above-7     L  \n",
       "3            Above-7     L  \n",
       "4            Above-7     M  "
      ]
     },
     "execution_count": 25,
     "metadata": {},
     "output_type": "execute_result"
    }
   ],
   "source": [
    "df = pd.read_csv('../data/raw/data.csv')\n",
    "df.head()"
   ]
  },
  {
   "cell_type": "code",
   "execution_count": 26,
   "metadata": {},
   "outputs": [
    {
     "data": {
      "text/html": [
       "<div>\n",
       "<style scoped>\n",
       "    .dataframe tbody tr th:only-of-type {\n",
       "        vertical-align: middle;\n",
       "    }\n",
       "\n",
       "    .dataframe tbody tr th {\n",
       "        vertical-align: top;\n",
       "    }\n",
       "\n",
       "    .dataframe thead th {\n",
       "        text-align: right;\n",
       "    }\n",
       "</style>\n",
       "<table border=\"1\" class=\"dataframe\">\n",
       "  <thead>\n",
       "    <tr style=\"text-align: right;\">\n",
       "      <th></th>\n",
       "      <th>variavel</th>\n",
       "      <th>significado</th>\n",
       "      <th>valores</th>\n",
       "      <th>tipo</th>\n",
       "    </tr>\n",
       "  </thead>\n",
       "  <tbody>\n",
       "    <tr>\n",
       "      <th>0</th>\n",
       "      <td>gender</td>\n",
       "      <td>Gênero do estudante</td>\n",
       "      <td>[\"Male\", \"Female\"]</td>\n",
       "      <td>Nomial</td>\n",
       "    </tr>\n",
       "    <tr>\n",
       "      <th>1</th>\n",
       "      <td>NationallTy</td>\n",
       "      <td>Nacionalidade do estudante</td>\n",
       "      <td>[\"Kuwait\", \"Lebanon\", \"Egypt\", \"SaudiArabia\", ...</td>\n",
       "      <td>Nomial</td>\n",
       "    </tr>\n",
       "    <tr>\n",
       "      <th>2</th>\n",
       "      <td>PlaceofBirth</td>\n",
       "      <td>Local de nascimento do estudante</td>\n",
       "      <td>[\"Kuwait\", \"Lebanon\", \"Egypt\", \"SaudiArabia\", ...</td>\n",
       "      <td>Nomial</td>\n",
       "    </tr>\n",
       "    <tr>\n",
       "      <th>3</th>\n",
       "      <td>StageID</td>\n",
       "      <td>Nivel educacional do estudante</td>\n",
       "      <td>[\"lowerlevel\", \"MiddleSchool\", \"HighSchool\"]</td>\n",
       "      <td>Ordinal</td>\n",
       "    </tr>\n",
       "    <tr>\n",
       "      <th>4</th>\n",
       "      <td>GradeID</td>\n",
       "      <td>Turma a qual o aluno pertence</td>\n",
       "      <td>[\"G-01\", \"G-02\", \"G-03\", \"G-04\", \"G-05\", \"G-06...</td>\n",
       "      <td>Nomial</td>\n",
       "    </tr>\n",
       "    <tr>\n",
       "      <th>5</th>\n",
       "      <td>SectionID</td>\n",
       "      <td>Sala de aula a qual o aluno pertence</td>\n",
       "      <td>[\"A\", \"B\", \"C\"]</td>\n",
       "      <td>Nomial</td>\n",
       "    </tr>\n",
       "    <tr>\n",
       "      <th>6</th>\n",
       "      <td>Topic</td>\n",
       "      <td>Topico do curso</td>\n",
       "      <td>[\"English\", \"Spanish\", \"French\", \"Arabic\", \"IT...</td>\n",
       "      <td>Nomial</td>\n",
       "    </tr>\n",
       "    <tr>\n",
       "      <th>7</th>\n",
       "      <td>Semester</td>\n",
       "      <td>Semestre letivo</td>\n",
       "      <td>[\"First\", \"Second\"]</td>\n",
       "      <td>Ordinal</td>\n",
       "    </tr>\n",
       "    <tr>\n",
       "      <th>8</th>\n",
       "      <td>Relation</td>\n",
       "      <td>Parente responsavel pelo estudante</td>\n",
       "      <td>[\"Mom\", \"Father\"]</td>\n",
       "      <td>Nomial</td>\n",
       "    </tr>\n",
       "    <tr>\n",
       "      <th>9</th>\n",
       "      <td>raisedhands</td>\n",
       "      <td>Quantas vezes o estudante levanta sua mão na s...</td>\n",
       "      <td>[0 - 100]</td>\n",
       "      <td>Discreta</td>\n",
       "    </tr>\n",
       "    <tr>\n",
       "      <th>10</th>\n",
       "      <td>VisITedResources</td>\n",
       "      <td>Quantas vezes o estudante pesquisa o conteudo ...</td>\n",
       "      <td>[0 - 100]</td>\n",
       "      <td>Discreta</td>\n",
       "    </tr>\n",
       "    <tr>\n",
       "      <th>11</th>\n",
       "      <td>AnnouncementsView</td>\n",
       "      <td>Quantas vezes o estudante verifica as novidade...</td>\n",
       "      <td>[0 - 100]</td>\n",
       "      <td>Discreta</td>\n",
       "    </tr>\n",
       "    <tr>\n",
       "      <th>12</th>\n",
       "      <td>Discussion</td>\n",
       "      <td>Quantas vezes o estudante participa de grupo d...</td>\n",
       "      <td>[0 - 100]</td>\n",
       "      <td>Discreta</td>\n",
       "    </tr>\n",
       "    <tr>\n",
       "      <th>13</th>\n",
       "      <td>ParentAnsweringSurvey</td>\n",
       "      <td>O responsavel respondeu as pesquisas fornecidas</td>\n",
       "      <td>[\"Yes\", \"No\"]</td>\n",
       "      <td>Nomial</td>\n",
       "    </tr>\n",
       "    <tr>\n",
       "      <th>14</th>\n",
       "      <td>ParentschoolSatisfaction</td>\n",
       "      <td>Grau de satisfação com as escolas</td>\n",
       "      <td>[\"Good\", \"Bad\"]</td>\n",
       "      <td>Nomial</td>\n",
       "    </tr>\n",
       "    <tr>\n",
       "      <th>15</th>\n",
       "      <td>StudentAbsenceDays</td>\n",
       "      <td>O numero de faltas de cada aluno</td>\n",
       "      <td>[\"above - 7\", \"Under - 7\"]</td>\n",
       "      <td>Nomial</td>\n",
       "    </tr>\n",
       "    <tr>\n",
       "      <th>16</th>\n",
       "      <td>Class</td>\n",
       "      <td>Classificação dos alunos com base em sua nota ...</td>\n",
       "      <td>[\"Low-Level\", \"Middle-Level\", \"High-Level\"]</td>\n",
       "      <td>Ordinal</td>\n",
       "    </tr>\n",
       "  </tbody>\n",
       "</table>\n",
       "</div>"
      ],
      "text/plain": [
       "                    variavel  \\\n",
       "0                     gender   \n",
       "1                NationallTy   \n",
       "2               PlaceofBirth   \n",
       "3                    StageID   \n",
       "4                    GradeID   \n",
       "5                  SectionID   \n",
       "6                      Topic   \n",
       "7                   Semester   \n",
       "8                   Relation   \n",
       "9                raisedhands   \n",
       "10          VisITedResources   \n",
       "11         AnnouncementsView   \n",
       "12                Discussion   \n",
       "13     ParentAnsweringSurvey   \n",
       "14  ParentschoolSatisfaction   \n",
       "15        StudentAbsenceDays   \n",
       "16                     Class   \n",
       "\n",
       "                                          significado  \\\n",
       "0                                Gênero do estudante    \n",
       "1                          Nacionalidade do estudante   \n",
       "2                    Local de nascimento do estudante   \n",
       "3                      Nivel educacional do estudante   \n",
       "4                       Turma a qual o aluno pertence   \n",
       "5                Sala de aula a qual o aluno pertence   \n",
       "6                                     Topico do curso   \n",
       "7                                     Semestre letivo   \n",
       "8                  Parente responsavel pelo estudante   \n",
       "9   Quantas vezes o estudante levanta sua mão na s...   \n",
       "10  Quantas vezes o estudante pesquisa o conteudo ...   \n",
       "11  Quantas vezes o estudante verifica as novidade...   \n",
       "12  Quantas vezes o estudante participa de grupo d...   \n",
       "13    O responsavel respondeu as pesquisas fornecidas   \n",
       "14                  Grau de satisfação com as escolas   \n",
       "15                   O numero de faltas de cada aluno   \n",
       "16  Classificação dos alunos com base em sua nota ...   \n",
       "\n",
       "                                              valores      tipo  \n",
       "0                                  [\"Male\", \"Female\"]    Nomial  \n",
       "1   [\"Kuwait\", \"Lebanon\", \"Egypt\", \"SaudiArabia\", ...    Nomial  \n",
       "2   [\"Kuwait\", \"Lebanon\", \"Egypt\", \"SaudiArabia\", ...    Nomial  \n",
       "3        [\"lowerlevel\", \"MiddleSchool\", \"HighSchool\"]   Ordinal  \n",
       "4   [\"G-01\", \"G-02\", \"G-03\", \"G-04\", \"G-05\", \"G-06...    Nomial  \n",
       "5                                     [\"A\", \"B\", \"C\"]    Nomial  \n",
       "6   [\"English\", \"Spanish\", \"French\", \"Arabic\", \"IT...    Nomial  \n",
       "7                                 [\"First\", \"Second\"]   Ordinal  \n",
       "8                                   [\"Mom\", \"Father\"]    Nomial  \n",
       "9                                           [0 - 100]  Discreta  \n",
       "10                                          [0 - 100]  Discreta  \n",
       "11                                          [0 - 100]  Discreta  \n",
       "12                                          [0 - 100]  Discreta  \n",
       "13                                      [\"Yes\", \"No\"]    Nomial  \n",
       "14                                    [\"Good\", \"Bad\"]    Nomial  \n",
       "15                         [\"above - 7\", \"Under - 7\"]    Nomial  \n",
       "16        [\"Low-Level\", \"Middle-Level\", \"High-Level\"]   Ordinal  "
      ]
     },
     "execution_count": 26,
     "metadata": {},
     "output_type": "execute_result"
    }
   ],
   "source": [
    "dict_path = Path(\"../data/external/dicionario.csv\")\n",
    "df_dict = pd.read_csv(dict_path)\n",
    "df_dict"
   ]
  },
  {
   "cell_type": "markdown",
   "metadata": {},
   "source": [
    "### Categorizando as váriaveis nominais de forma numerica"
   ]
  },
  {
   "cell_type": "code",
   "execution_count": 27,
   "metadata": {},
   "outputs": [],
   "source": [
    "X = pd.DataFrame()\n",
    "\n",
    "X['gender'] = df.gender.replace({'M':0,'F':1})\n",
    "X['StageID'] = df.StageID.replace({'lowerlevel':0,'MiddleSchool':1,'HighSchool':2})\n",
    "\n",
    "X['Semester'] = df.Semester.replace({'F':0,'S':1})\n",
    "X['Relation'] = df.Relation.replace({'Father':0,'Mum':1})\n",
    "X['ParentAnsweringSurvey'] = df.ParentAnsweringSurvey.replace({'Yes':0,'No':1})\n",
    "X['StudentAbsenceDays'] = df.StudentAbsenceDays.replace({'Under-7':0,'Above-7':1})\n",
    "X = pd.concat((X,df[['raisedhands','VisITedResources','AnnouncementsView','Discussion']]),axis=1)\n",
    "Y = df.Class.replace({'L':0,'M':1,'H':2})"
   ]
  },
  {
   "cell_type": "code",
   "execution_count": 28,
   "metadata": {},
   "outputs": [
    {
     "data": {
      "text/html": [
       "<div>\n",
       "<style scoped>\n",
       "    .dataframe tbody tr th:only-of-type {\n",
       "        vertical-align: middle;\n",
       "    }\n",
       "\n",
       "    .dataframe tbody tr th {\n",
       "        vertical-align: top;\n",
       "    }\n",
       "\n",
       "    .dataframe thead th {\n",
       "        text-align: right;\n",
       "    }\n",
       "</style>\n",
       "<table border=\"1\" class=\"dataframe\">\n",
       "  <thead>\n",
       "    <tr style=\"text-align: right;\">\n",
       "      <th></th>\n",
       "      <th>gender</th>\n",
       "      <th>StageID</th>\n",
       "      <th>Semester</th>\n",
       "      <th>Relation</th>\n",
       "      <th>ParentAnsweringSurvey</th>\n",
       "      <th>StudentAbsenceDays</th>\n",
       "      <th>raisedhands</th>\n",
       "      <th>VisITedResources</th>\n",
       "      <th>AnnouncementsView</th>\n",
       "      <th>Discussion</th>\n",
       "    </tr>\n",
       "  </thead>\n",
       "  <tbody>\n",
       "    <tr>\n",
       "      <th>0</th>\n",
       "      <td>0</td>\n",
       "      <td>0</td>\n",
       "      <td>0</td>\n",
       "      <td>0</td>\n",
       "      <td>0</td>\n",
       "      <td>0</td>\n",
       "      <td>15</td>\n",
       "      <td>16</td>\n",
       "      <td>2</td>\n",
       "      <td>20</td>\n",
       "    </tr>\n",
       "    <tr>\n",
       "      <th>1</th>\n",
       "      <td>0</td>\n",
       "      <td>0</td>\n",
       "      <td>0</td>\n",
       "      <td>0</td>\n",
       "      <td>0</td>\n",
       "      <td>0</td>\n",
       "      <td>20</td>\n",
       "      <td>20</td>\n",
       "      <td>3</td>\n",
       "      <td>25</td>\n",
       "    </tr>\n",
       "    <tr>\n",
       "      <th>2</th>\n",
       "      <td>0</td>\n",
       "      <td>0</td>\n",
       "      <td>0</td>\n",
       "      <td>0</td>\n",
       "      <td>1</td>\n",
       "      <td>1</td>\n",
       "      <td>10</td>\n",
       "      <td>7</td>\n",
       "      <td>0</td>\n",
       "      <td>30</td>\n",
       "    </tr>\n",
       "    <tr>\n",
       "      <th>3</th>\n",
       "      <td>0</td>\n",
       "      <td>0</td>\n",
       "      <td>0</td>\n",
       "      <td>0</td>\n",
       "      <td>1</td>\n",
       "      <td>1</td>\n",
       "      <td>30</td>\n",
       "      <td>25</td>\n",
       "      <td>5</td>\n",
       "      <td>35</td>\n",
       "    </tr>\n",
       "    <tr>\n",
       "      <th>4</th>\n",
       "      <td>0</td>\n",
       "      <td>0</td>\n",
       "      <td>0</td>\n",
       "      <td>0</td>\n",
       "      <td>1</td>\n",
       "      <td>1</td>\n",
       "      <td>40</td>\n",
       "      <td>50</td>\n",
       "      <td>12</td>\n",
       "      <td>50</td>\n",
       "    </tr>\n",
       "  </tbody>\n",
       "</table>\n",
       "</div>"
      ],
      "text/plain": [
       "   gender  StageID  Semester  Relation  ParentAnsweringSurvey  \\\n",
       "0       0        0         0         0                      0   \n",
       "1       0        0         0         0                      0   \n",
       "2       0        0         0         0                      1   \n",
       "3       0        0         0         0                      1   \n",
       "4       0        0         0         0                      1   \n",
       "\n",
       "   StudentAbsenceDays  raisedhands  VisITedResources  AnnouncementsView  \\\n",
       "0                   0           15                16                  2   \n",
       "1                   0           20                20                  3   \n",
       "2                   1           10                 7                  0   \n",
       "3                   1           30                25                  5   \n",
       "4                   1           40                50                 12   \n",
       "\n",
       "   Discussion  \n",
       "0          20  \n",
       "1          25  \n",
       "2          30  \n",
       "3          35  \n",
       "4          50  "
      ]
     },
     "execution_count": 28,
     "metadata": {},
     "output_type": "execute_result"
    }
   ],
   "source": [
    "X.head()"
   ]
  },
  {
   "cell_type": "markdown",
   "metadata": {},
   "source": [
    "### Divisão dos dados em treino e teste"
   ]
  },
  {
   "cell_type": "code",
   "execution_count": 29,
   "metadata": {},
   "outputs": [],
   "source": [
    "x_train, x_test, y_train, y_test = train_test_split(X, Y, test_size=0.2, random_state=1)"
   ]
  },
  {
   "cell_type": "markdown",
   "metadata": {},
   "source": [
    "### Classificação\n",
    "#### KNN"
   ]
  },
  {
   "cell_type": "code",
   "execution_count": 30,
   "metadata": {},
   "outputs": [
    {
     "data": {
      "text/plain": [
       "0.6458333333333334"
      ]
     },
     "execution_count": 30,
     "metadata": {},
     "output_type": "execute_result"
    }
   ],
   "source": [
    "knn = KNeighborsClassifier(n_neighbors=3)\n",
    "model_knn = knn.fit(x_train,y_train)\n",
    "pred_knn = model_knn.predict(x_test)\n",
    "model_knn.score(x_test,y_test)"
   ]
  },
  {
   "cell_type": "markdown",
   "metadata": {},
   "source": [
    "#### Regressão Logisitica"
   ]
  },
  {
   "cell_type": "code",
   "execution_count": 31,
   "metadata": {},
   "outputs": [
    {
     "name": "stderr",
     "output_type": "stream",
     "text": [
      "c:\\Users\\stefane.santos\\Anaconda3\\envs\\pdi\\lib\\site-packages\\sklearn\\linear_model\\_logistic.py:444: ConvergenceWarning: lbfgs failed to converge (status=1):\n",
      "STOP: TOTAL NO. of ITERATIONS REACHED LIMIT.\n",
      "\n",
      "Increase the number of iterations (max_iter) or scale the data as shown in:\n",
      "    https://scikit-learn.org/stable/modules/preprocessing.html\n",
      "Please also refer to the documentation for alternative solver options:\n",
      "    https://scikit-learn.org/stable/modules/linear_model.html#logistic-regression\n",
      "  n_iter_i = _check_optimize_result(\n"
     ]
    },
    {
     "data": {
      "text/plain": [
       "0.7708333333333334"
      ]
     },
     "execution_count": 31,
     "metadata": {},
     "output_type": "execute_result"
    }
   ],
   "source": [
    "log_reg = LogisticRegression()\n",
    "model_reg = log_reg.fit(x_train,y_train)\n",
    "pred_log_reg = model_reg.predict(x_test)\n",
    "model_reg.score(x_test, y_test)"
   ]
  },
  {
   "cell_type": "markdown",
   "metadata": {},
   "source": [
    "#### Naive Bayes"
   ]
  },
  {
   "cell_type": "code",
   "execution_count": 32,
   "metadata": {},
   "outputs": [
    {
     "data": {
      "text/plain": [
       "0.5416666666666666"
      ]
     },
     "execution_count": 32,
     "metadata": {},
     "output_type": "execute_result"
    }
   ],
   "source": [
    "naive = MultinomialNB()\n",
    "model_naive = naive.fit(x_train,y_train)\n",
    "pred_naive = model_naive.predict(x_test)\n",
    "model_naive.score(x_test, y_test)"
   ]
  },
  {
   "cell_type": "markdown",
   "metadata": {},
   "source": [
    "### Arvores de decisão"
   ]
  },
  {
   "cell_type": "code",
   "execution_count": 33,
   "metadata": {},
   "outputs": [
    {
     "data": {
      "text/plain": [
       "0.6875"
      ]
     },
     "execution_count": 33,
     "metadata": {},
     "output_type": "execute_result"
    }
   ],
   "source": [
    "tree = DecisionTreeClassifier(criterion = 'gini',random_state=42,max_depth=15)\n",
    "model_tree = tree.fit(x_train, y_train)\n",
    "pred_tree = model_tree.predict(x_test)\n",
    "model_tree.score(x_test, y_test)"
   ]
  },
  {
   "cell_type": "markdown",
   "metadata": {},
   "source": [
    "### TO DO\n",
    "1. Pesquisar outras formas de categorizar numericamente as váriaveis nominais.\n",
    "2. Analisar a matriz de correlação para verificar quais variaveis são mais influentes para a classificação\n",
    "3. Verificar se é necessário normalizar os valores."
   ]
  },
  {
   "cell_type": "markdown",
   "metadata": {},
   "source": [
    "## Configuração do experimento"
   ]
  },
  {
   "cell_type": "code",
   "execution_count": null,
   "metadata": {},
   "outputs": [],
   "source": []
  },
  {
   "cell_type": "code",
   "execution_count": null,
   "metadata": {},
   "outputs": [],
   "source": []
  },
  {
   "cell_type": "markdown",
   "metadata": {},
   "source": [
    "## Resultados"
   ]
  },
  {
   "cell_type": "code",
   "execution_count": 55,
   "metadata": {},
   "outputs": [],
   "source": [
    "def score(y_test,y_pred,title):\n",
    "    y_score = accuracy_score(y_test,y_pred)\n",
    "  \n",
    "    print('\\n')\n",
    "    \n",
    "    print('Classification Report')\n",
    "    print(classification_report(y_test,y_pred,target_names=[\"Low-Level\", \"Middle-Level\", \"High-Level\"]))\n",
    "    \n",
    "    matrix = metrics.confusion_matrix(y_test, y_pred)\n",
    "    plt.figure(figsize=(5,5))\n",
    "    ax = sns.heatmap(matrix, annot=True, fmt=\".0f\", linewidths=.5, square = True, cmap = 'Blues_r')\n",
    "    ax.set_ylabel('Actual label')\n",
    "    ax.set_xlabel('Predicted label')\n",
    "    ax.xaxis.set_ticklabels([\"Low-Level\", \"Middle-Level\", \"High-Level\"])\n",
    "    ax.yaxis.set_ticklabels([\"Low-Level\", \"Middle-Level\", \"High-Level\"])\n",
    "    plt.title(title, size = 15)"
   ]
  },
  {
   "cell_type": "code",
   "execution_count": 56,
   "metadata": {},
   "outputs": [
    {
     "name": "stdout",
     "output_type": "stream",
     "text": [
      "\n",
      "\n",
      "Classification Report\n",
      "              precision    recall  f1-score   support\n",
      "\n",
      "   Low-Level       0.71      0.63      0.67        19\n",
      "Middle-Level       0.54      0.69      0.61        36\n",
      "  High-Level       0.76      0.61      0.68        41\n",
      "\n",
      "    accuracy                           0.65        96\n",
      "   macro avg       0.67      0.65      0.65        96\n",
      "weighted avg       0.67      0.65      0.65        96\n",
      "\n"
     ]
    },
    {
     "data": {
      "image/png": "[encoded data removed]",
      "text/plain": [
       "<Figure size 500x500 with 2 Axes>"
      ]
     },
     "metadata": {},
     "output_type": "display_data"
    }
   ],
   "source": [
    "score(y_test,pred_knn,\"KNN\")"
   ]
  },
  {
   "cell_type": "code",
   "execution_count": 57,
   "metadata": {},
   "outputs": [
    {
     "name": "stdout",
     "output_type": "stream",
     "text": [
      "\n",
      "\n",
      "Classification Report\n",
      "              precision    recall  f1-score   support\n",
      "\n",
      "   Low-Level       0.76      0.84      0.80        19\n",
      "Middle-Level       0.70      0.72      0.71        36\n",
      "  High-Level       0.84      0.78      0.81        41\n",
      "\n",
      "    accuracy                           0.77        96\n",
      "   macro avg       0.77      0.78      0.77        96\n",
      "weighted avg       0.77      0.77      0.77        96\n",
      "\n"
     ]
    },
    {
     "data": {
      "image/png": "[encoded data removed]",
      "text/plain": [
       "<Figure size 500x500 with 2 Axes>"
      ]
     },
     "metadata": {},
     "output_type": "display_data"
    }
   ],
   "source": [
    "score(y_test,pred_log_reg,\"Regressão logística\")"
   ]
  },
  {
   "cell_type": "code",
   "execution_count": 58,
   "metadata": {},
   "outputs": [
    {
     "name": "stdout",
     "output_type": "stream",
     "text": [
      "\n",
      "\n",
      "Classification Report\n",
      "              precision    recall  f1-score   support\n",
      "\n",
      "   Low-Level       0.52      0.74      0.61        19\n",
      "Middle-Level       0.47      0.47      0.47        36\n",
      "  High-Level       0.64      0.51      0.57        41\n",
      "\n",
      "    accuracy                           0.54        96\n",
      "   macro avg       0.54      0.57      0.55        96\n",
      "weighted avg       0.55      0.54      0.54        96\n",
      "\n"
     ]
    },
    {
     "data": {
      "image/png": "[encoded data removed]",
      "text/plain": [
       "<Figure size 500x500 with 2 Axes>"
      ]
     },
     "metadata": {},
     "output_type": "display_data"
    }
   ],
   "source": [
    "score(y_test,pred_naive,\"Naive\")"
   ]
  },
  {
   "cell_type": "code",
   "execution_count": 59,
   "metadata": {},
   "outputs": [
    {
     "name": "stdout",
     "output_type": "stream",
     "text": [
      "\n",
      "\n",
      "Classification Report\n",
      "              precision    recall  f1-score   support\n",
      "\n",
      "   Low-Level       0.73      0.84      0.78        19\n",
      "Middle-Level       0.57      0.67      0.62        36\n",
      "  High-Level       0.81      0.63      0.71        41\n",
      "\n",
      "    accuracy                           0.69        96\n",
      "   macro avg       0.70      0.71      0.70        96\n",
      "weighted avg       0.71      0.69      0.69        96\n",
      "\n"
     ]
    },
    {
     "data": {
      "image/png": "[encoded data removed]",
      "text/plain": [
       "<Figure size 500x500 with 2 Axes>"
      ]
     },
     "metadata": {},
     "output_type": "display_data"
    }
   ],
   "source": [
    "score(y_test,pred_tree,\"Árvores de decisão\")"
   ]
  },
  {
   "cell_type": "markdown",
   "metadata": {},
   "source": [
    "## Discussão"
   ]
  },
  {
   "cell_type": "markdown",
   "metadata": {},
   "source": []
  },
  {
   "cell_type": "code",
   "execution_count": null,
   "metadata": {},
   "outputs": [],
   "source": []
  }
 ],
 "metadata": {
  "kernelspec": {
   "display_name": "Python 3.8.13 ('pdi')",
   "language": "python",
   "name": "python3"
  },
  "language_info": {
   "codemirror_mode": {
    "name": "ipython",
    "version": 3
   },
   "file_extension": ".py",
   "mimetype": "text/x-python",
   "name": "python",
   "nbconvert_exporter": "python",
   "pygments_lexer": "ipython3",
   "version": "3.8.13"
  },
  "orig_nbformat": 4,
  "vscode": {
   "interpreter": {
    "hash": "4a58946dd5157bbc7eea7c287d3d79a93b753a12a02446af2e0bf47ebec0a370"
   }
  }
 },
 "nbformat": 4,
 "nbformat_minor": 2
}
